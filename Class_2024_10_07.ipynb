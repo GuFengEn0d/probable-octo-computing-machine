{
  "nbformat": 4,
  "nbformat_minor": 0,
  "metadata": {
    "colab": {
      "provenance": [],
      "toc_visible": true,
      "authorship_tag": "ABX9TyPe5htZCCv0zN1RCkdRotIx",
      "include_colab_link": true
    },
    "kernelspec": {
      "name": "python3",
      "display_name": "Python 3"
    },
    "language_info": {
      "name": "python"
    }
  },
  "cells": [
    {
      "cell_type": "markdown",
      "metadata": {
        "id": "view-in-github",
        "colab_type": "text"
      },
      "source": [
        "<a href=\"https://colab.research.google.com/github/GuFengEn0d/probable-octo-computing-machine/blob/main/Class_2024_10_07.ipynb\" target=\"_parent\"><img src=\"https://colab.research.google.com/assets/colab-badge.svg\" alt=\"Open In Colab\"/></a>"
      ]
    },
    {
      "cell_type": "code",
      "execution_count": null,
      "metadata": {
        "id": "_t2iQtarHYgU"
      },
      "outputs": [],
      "source": []
    },
    {
      "cell_type": "markdown",
      "source": [
        "My first program to **add** two numbers"
      ],
      "metadata": {
        "id": "zfd3Y4djI79U"
      }
    },
    {
      "cell_type": "code",
      "source": [
        "5+7"
      ],
      "metadata": {
        "colab": {
          "base_uri": "https://localhost:8080/"
        },
        "id": "jDjmlDQMJJtb",
        "outputId": "abe9b2af-ad49-4160-a311-4a312c51fd71"
      },
      "execution_count": null,
      "outputs": [
        {
          "output_type": "execute_result",
          "data": {
            "text/plain": [
              "12"
            ]
          },
          "metadata": {},
          "execution_count": 60
        }
      ]
    },
    {
      "cell_type": "markdown",
      "source": [
        "# Chapter 1\n"
      ],
      "metadata": {
        "id": "J0TlYk9KP-tA"
      }
    },
    {
      "cell_type": "markdown",
      "source": [
        "My first Program in Python"
      ],
      "metadata": {
        "id": "2CWo94MIQT2F"
      }
    },
    {
      "cell_type": "code",
      "source": [
        "print(\"Hello World\")"
      ],
      "metadata": {
        "colab": {
          "base_uri": "https://localhost:8080/"
        },
        "id": "nqsU9yhiQW6O",
        "outputId": "4615b444-08e2-4da8-fb46-9d2df5be34f3"
      },
      "execution_count": null,
      "outputs": [
        {
          "output_type": "stream",
          "name": "stdout",
          "text": [
            "Hello World\n"
          ]
        }
      ]
    },
    {
      "cell_type": "code",
      "source": [
        "7+9"
      ],
      "metadata": {
        "colab": {
          "base_uri": "https://localhost:8080/"
        },
        "id": "RuHYVFPYQeAP",
        "outputId": "6c41e913-aa5a-477c-b49a-5eb5a6ed9263"
      },
      "execution_count": null,
      "outputs": [
        {
          "output_type": "execute_result",
          "data": {
            "text/plain": [
              "16"
            ]
          },
          "metadata": {},
          "execution_count": 62
        }
      ]
    },
    {
      "cell_type": "code",
      "source": [
        "print('Python is an amazing programming language')"
      ],
      "metadata": {
        "colab": {
          "base_uri": "https://localhost:8080/"
        },
        "id": "uyLihAkpQfZK",
        "outputId": "817a7d23-7cb3-4e26-ec85-f615bf4e125d"
      },
      "execution_count": null,
      "outputs": [
        {
          "output_type": "stream",
          "name": "stdout",
          "text": [
            "Python is an amazing programming language\n"
          ]
        }
      ]
    },
    {
      "cell_type": "markdown",
      "source": [
        "# Chapter 1.1"
      ],
      "metadata": {
        "id": "QeVwyTPGQh0w"
      }
    },
    {
      "cell_type": "markdown",
      "source": [
        "Some mathematical operations"
      ],
      "metadata": {
        "id": "-fGE2AYnQpg2"
      }
    },
    {
      "cell_type": "markdown",
      "source": [
        "**Addition**"
      ],
      "metadata": {
        "id": "O-CGeDF7QtxO"
      }
    },
    {
      "cell_type": "code",
      "source": [
        "5+4"
      ],
      "metadata": {
        "colab": {
          "base_uri": "https://localhost:8080/"
        },
        "id": "zJNgCBErQrwW",
        "outputId": "62105fde-2a94-4c4d-bfb1-3805c78fe36d"
      },
      "execution_count": null,
      "outputs": [
        {
          "output_type": "execute_result",
          "data": {
            "text/plain": [
              "9"
            ]
          },
          "metadata": {},
          "execution_count": 64
        }
      ]
    },
    {
      "cell_type": "markdown",
      "source": [
        "**Multiplication**"
      ],
      "metadata": {
        "id": "I3bkq2U8Qym0"
      }
    },
    {
      "cell_type": "code",
      "source": [
        "25*7"
      ],
      "metadata": {
        "colab": {
          "base_uri": "https://localhost:8080/"
        },
        "id": "VdeLfnysQx19",
        "outputId": "74a2e736-02d9-4d85-a87d-5f969af3e5c1"
      },
      "execution_count": null,
      "outputs": [
        {
          "output_type": "execute_result",
          "data": {
            "text/plain": [
              "175"
            ]
          },
          "metadata": {},
          "execution_count": 65
        }
      ]
    },
    {
      "cell_type": "markdown",
      "source": [
        "**Division**"
      ],
      "metadata": {
        "id": "aLOrHYIvQ5v7"
      }
    },
    {
      "cell_type": "code",
      "source": [
        "100/2"
      ],
      "metadata": {
        "colab": {
          "base_uri": "https://localhost:8080/"
        },
        "id": "NxeU1D1OQ95y",
        "outputId": "2f180bf2-0ee5-4b34-d5a7-2a704acee761"
      },
      "execution_count": null,
      "outputs": [
        {
          "output_type": "execute_result",
          "data": {
            "text/plain": [
              "50.0"
            ]
          },
          "metadata": {},
          "execution_count": 66
        }
      ]
    },
    {
      "cell_type": "markdown",
      "source": [
        "**Subtraction**"
      ],
      "metadata": {
        "id": "laUyF_gmRPo4"
      }
    },
    {
      "cell_type": "code",
      "source": [
        "75-24"
      ],
      "metadata": {
        "colab": {
          "base_uri": "https://localhost:8080/"
        },
        "id": "RHE-HaltRhz3",
        "outputId": "156a8281-7a5b-424c-9c94-e863e35a38c4"
      },
      "execution_count": null,
      "outputs": [
        {
          "output_type": "execute_result",
          "data": {
            "text/plain": [
              "51"
            ]
          },
          "metadata": {},
          "execution_count": 67
        }
      ]
    },
    {
      "cell_type": "markdown",
      "source": [
        "# Chapter 1.2"
      ],
      "metadata": {
        "id": "nG-bcKmzXJPz"
      }
    },
    {
      "cell_type": "markdown",
      "source": [
        "A method is an action that Python can perform on a piece of data"
      ],
      "metadata": {
        "id": "NeXh4BpPXOQf"
      }
    },
    {
      "cell_type": "code",
      "source": [
        "school = \"cuny laguardia\"\n",
        "print(school.upper())\n",
        "print (school.lower())"
      ],
      "metadata": {
        "colab": {
          "base_uri": "https://localhost:8080/"
        },
        "id": "wQb2KjLgXZhW",
        "outputId": "52f74f19-4eda-49d0-ecf8-75e46f186e11"
      },
      "execution_count": null,
      "outputs": [
        {
          "output_type": "stream",
          "name": "stdout",
          "text": [
            "CUNY LAGUARDIA\n",
            "cuny laguardia\n"
          ]
        }
      ]
    },
    {
      "cell_type": "markdown",
      "source": [
        "\n",
        "# Variables"
      ],
      "metadata": {
        "id": "eY_88-M_Xsb7"
      }
    },
    {
      "cell_type": "markdown",
      "source": [
        "A variable that holds some information and could be reused in the program"
      ],
      "metadata": {
        "id": "edOMzlrCXwbh"
      }
    },
    {
      "cell_type": "code",
      "source": [
        "my_message = \"Hello World.  This is a test for variable and how it works\""
      ],
      "metadata": {
        "id": "jQYtSnB-X2zf"
      },
      "execution_count": null,
      "outputs": []
    },
    {
      "cell_type": "code",
      "source": [
        "print(my_message)"
      ],
      "metadata": {
        "colab": {
          "base_uri": "https://localhost:8080/"
        },
        "id": "l4poX4nsYEn9",
        "outputId": "94691d4a-e95d-4e4a-ba79-11cebdecd6f9"
      },
      "execution_count": null,
      "outputs": [
        {
          "output_type": "stream",
          "name": "stdout",
          "text": [
            "Hello World.  This is a test for variable and how it works\n"
          ]
        }
      ]
    },
    {
      "cell_type": "code",
      "source": [
        "a=276\n",
        "b=10\n",
        "c=a+b"
      ],
      "metadata": {
        "id": "2R9jVY8wYkYq"
      },
      "execution_count": null,
      "outputs": []
    },
    {
      "cell_type": "code",
      "source": [
        "print(a)"
      ],
      "metadata": {
        "colab": {
          "base_uri": "https://localhost:8080/"
        },
        "id": "QRu4p_k7Ynsy",
        "outputId": "fbbddc5f-73d5-423d-8956-241d6470ca29"
      },
      "execution_count": null,
      "outputs": [
        {
          "output_type": "stream",
          "name": "stdout",
          "text": [
            "276\n"
          ]
        }
      ]
    },
    {
      "cell_type": "code",
      "source": [
        "print(b)"
      ],
      "metadata": {
        "colab": {
          "base_uri": "https://localhost:8080/"
        },
        "id": "Zwkb6z0IYpn_",
        "outputId": "b48a5813-ef75-4885-ec32-ac0b651149e8"
      },
      "execution_count": null,
      "outputs": [
        {
          "output_type": "stream",
          "name": "stdout",
          "text": [
            "10\n"
          ]
        }
      ]
    },
    {
      "cell_type": "code",
      "source": [
        "print(c)"
      ],
      "metadata": {
        "colab": {
          "base_uri": "https://localhost:8080/"
        },
        "id": "nUCMWBiyYq6I",
        "outputId": "4dfa99fe-1226-4105-db7f-4017946742b5"
      },
      "execution_count": null,
      "outputs": [
        {
          "output_type": "stream",
          "name": "stdout",
          "text": [
            "286\n"
          ]
        }
      ]
    },
    {
      "cell_type": "code",
      "source": [
        "my_first_number=276\n",
        "my_second_number=10\n",
        "result=my_first_number+my_second_number"
      ],
      "metadata": {
        "id": "VCqQ-XjYYwG1"
      },
      "execution_count": null,
      "outputs": []
    },
    {
      "cell_type": "code",
      "source": [
        "print(result)"
      ],
      "metadata": {
        "colab": {
          "base_uri": "https://localhost:8080/"
        },
        "id": "535p8qnsY6G7",
        "outputId": "74d70bed-86bd-4dae-b7ea-965a9154bea9"
      },
      "execution_count": null,
      "outputs": [
        {
          "output_type": "stream",
          "name": "stdout",
          "text": [
            "286\n"
          ]
        }
      ]
    },
    {
      "cell_type": "code",
      "source": [
        "greeting_message =\"Welcome Angel\""
      ],
      "metadata": {
        "id": "ZM4g4P-4Z7SE"
      },
      "execution_count": null,
      "outputs": []
    },
    {
      "cell_type": "code",
      "source": [
        "print(greeting_message)"
      ],
      "metadata": {
        "colab": {
          "base_uri": "https://localhost:8080/"
        },
        "id": "KQr8nTKSZ_R1",
        "outputId": "61bd9313-f1a3-42c7-c46d-46739ceafcbf"
      },
      "execution_count": null,
      "outputs": [
        {
          "output_type": "stream",
          "name": "stdout",
          "text": [
            "Welcome Angel\n"
          ]
        }
      ]
    },
    {
      "cell_type": "code",
      "source": [
        "user_name=\"Yoli\""
      ],
      "metadata": {
        "id": "zehUjJ7DaSP0"
      },
      "execution_count": null,
      "outputs": []
    },
    {
      "cell_type": "code",
      "source": [
        "greeting_message=\"Welcome \" +user_name"
      ],
      "metadata": {
        "id": "lvkFSmy1aUWM"
      },
      "execution_count": null,
      "outputs": []
    },
    {
      "cell_type": "code",
      "source": [
        "print(greeting_message)"
      ],
      "metadata": {
        "colab": {
          "base_uri": "https://localhost:8080/"
        },
        "id": "su6JUG7SaZ0D",
        "outputId": "c269571d-3076-4658-9695-628f39bad671"
      },
      "execution_count": null,
      "outputs": [
        {
          "output_type": "stream",
          "name": "stdout",
          "text": [
            "Welcome Yoli\n"
          ]
        }
      ]
    },
    {
      "cell_type": "code",
      "source": [
        "print(\"cuny\")\n",
        "print(\"\\tcuny\")"
      ],
      "metadata": {
        "colab": {
          "base_uri": "https://localhost:8080/"
        },
        "id": "VHq8VKiydGJC",
        "outputId": "f8bf1b8a-7dc5-4ff0-fcff-91faff7fbdba"
      },
      "execution_count": null,
      "outputs": [
        {
          "output_type": "stream",
          "name": "stdout",
          "text": [
            "cuny\n",
            "\tcuny\n"
          ]
        }
      ]
    },
    {
      "cell_type": "code",
      "source": [
        "print(\"cuny\\nLaGuardia\\nCommunity\\nCollege\")"
      ],
      "metadata": {
        "colab": {
          "base_uri": "https://localhost:8080/"
        },
        "id": "Fv9U_zAleCRX",
        "outputId": "64f6d899-7a86-4c7a-9338-264f59d31901"
      },
      "execution_count": null,
      "outputs": [
        {
          "output_type": "stream",
          "name": "stdout",
          "text": [
            "cuny\n",
            "LaGuardia\n",
            "Community\n",
            "College\n"
          ]
        }
      ]
    },
    {
      "cell_type": "markdown",
      "source": [
        "# Try Yourself 2.1"
      ],
      "metadata": {
        "id": "EDHig_JweSZ5"
      }
    },
    {
      "cell_type": "code",
      "source": [
        "person_name=\"niteen\""
      ],
      "metadata": {
        "id": "oBH6eSvKeWJm"
      },
      "execution_count": null,
      "outputs": []
    },
    {
      "cell_type": "code",
      "source": [
        "print (\"Hello \" +person_name.upper() +\", what are you doing after class?\")"
      ],
      "metadata": {
        "colab": {
          "base_uri": "https://localhost:8080/"
        },
        "id": "eGnOTq9Leaii",
        "outputId": "b9f940c0-fee8-4d11-9105-22d4e319cb28"
      },
      "execution_count": null,
      "outputs": [
        {
          "output_type": "stream",
          "name": "stdout",
          "text": [
            "Hello NITEEN, what are you doing after class?\n"
          ]
        }
      ]
    },
    {
      "cell_type": "code",
      "source": [
        "print (\"Hello \" +person_name.capitalize() +\", what are you doing after class?\")"
      ],
      "metadata": {
        "colab": {
          "base_uri": "https://localhost:8080/"
        },
        "id": "QuRx0Kfuf77h",
        "outputId": "6c32c951-d959-4697-e9e0-c31dd218b5c5"
      },
      "execution_count": null,
      "outputs": [
        {
          "output_type": "stream",
          "name": "stdout",
          "text": [
            "Hello Niteen, what are you doing after class?\n"
          ]
        }
      ]
    },
    {
      "cell_type": "code",
      "source": [
        "2* 5.3"
      ],
      "metadata": {
        "colab": {
          "base_uri": "https://localhost:8080/"
        },
        "id": "-6DIWan2iS63",
        "outputId": "33d16b34-f6be-4ef6-ce1d-9ea39dedf768"
      },
      "execution_count": null,
      "outputs": [
        {
          "output_type": "execute_result",
          "data": {
            "text/plain": [
              "10.6"
            ]
          },
          "metadata": {},
          "execution_count": 88
        }
      ]
    },
    {
      "cell_type": "markdown",
      "source": [
        "# Try Yourself 2.2"
      ],
      "metadata": {
        "id": "StnXaTMUjpFJ"
      }
    },
    {
      "cell_type": "code",
      "source": [
        "a=25\n",
        "b=16\n",
        "c=35\n",
        "d=92.45"
      ],
      "metadata": {
        "id": "X8EbtInejtoe"
      },
      "execution_count": null,
      "outputs": []
    },
    {
      "cell_type": "markdown",
      "source": [
        "f=a*(b+c)-d\n",
        "A=25, b=16, c=35.4 , d = 92.45, Calculate the values of e and f where e=59*a+37*c+43*b –d and f= a*(b+c)-d. Print both values of e and f"
      ],
      "metadata": {
        "id": "5_n0Q8DZmpiB"
      }
    },
    {
      "cell_type": "code",
      "source": [
        "e=str(59)* (a)+str(37)*(c)+str(43)* (b)-str(d)"
      ],
      "metadata": {
        "colab": {
          "base_uri": "https://localhost:8080/",
          "height": 141
        },
        "id": "x4cpEel9j4YT",
        "outputId": "142882d2-d479-4c90-96b0-510fbfd781dd"
      },
      "execution_count": null,
      "outputs": [
        {
          "output_type": "error",
          "ename": "NameError",
          "evalue": "name 'd' is not defined",
          "traceback": [
            "\u001b[0;31m---------------------------------------------------------------------------\u001b[0m",
            "\u001b[0;31mNameError\u001b[0m                                 Traceback (most recent call last)",
            "\u001b[0;32m<ipython-input-92-3f2a65785014>\u001b[0m in \u001b[0;36m<cell line: 1>\u001b[0;34m()\u001b[0m\n\u001b[0;32m----> 1\u001b[0;31m \u001b[0me\u001b[0m\u001b[0;34m=\u001b[0m\u001b[0mstr\u001b[0m\u001b[0;34m(\u001b[0m\u001b[0;36m59\u001b[0m\u001b[0;34m)\u001b[0m\u001b[0;34m*\u001b[0m \u001b[0;34m(\u001b[0m\u001b[0ma\u001b[0m\u001b[0;34m)\u001b[0m\u001b[0;34m+\u001b[0m\u001b[0mstr\u001b[0m\u001b[0;34m(\u001b[0m\u001b[0;36m37\u001b[0m\u001b[0;34m)\u001b[0m\u001b[0;34m*\u001b[0m\u001b[0;34m(\u001b[0m\u001b[0mc\u001b[0m\u001b[0;34m)\u001b[0m\u001b[0;34m+\u001b[0m\u001b[0mstr\u001b[0m\u001b[0;34m(\u001b[0m\u001b[0;36m43\u001b[0m\u001b[0;34m)\u001b[0m\u001b[0;34m*\u001b[0m \u001b[0;34m(\u001b[0m\u001b[0mb\u001b[0m\u001b[0;34m)\u001b[0m\u001b[0;34m-\u001b[0m\u001b[0mstr\u001b[0m\u001b[0;34m(\u001b[0m\u001b[0md\u001b[0m\u001b[0;34m)\u001b[0m\u001b[0;34m\u001b[0m\u001b[0;34m\u001b[0m\u001b[0m\n\u001b[0m",
            "\u001b[0;31mNameError\u001b[0m: name 'd' is not defined"
          ]
        }
      ]
    }
  ]
}