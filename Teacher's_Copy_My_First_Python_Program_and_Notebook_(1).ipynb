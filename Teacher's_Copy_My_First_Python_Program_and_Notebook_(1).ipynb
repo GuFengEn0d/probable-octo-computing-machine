{
  "nbformat": 4,
  "nbformat_minor": 0,
  "metadata": {
    "colab": {
      "provenance": [],
      "include_colab_link": true
    },
    "kernelspec": {
      "name": "python3",
      "display_name": "Python 3"
    },
    "language_info": {
      "name": "python"
    }
  },
  "cells": [
    {
      "cell_type": "markdown",
      "metadata": {
        "id": "view-in-github",
        "colab_type": "text"
      },
      "source": [
        "<a href=\"https://colab.research.google.com/github/GuFengEn0d/probable-octo-computing-machine/blob/main/Teacher's_Copy_My_First_Python_Program_and_Notebook_(1).ipynb\" target=\"_parent\"><img src=\"https://colab.research.google.com/assets/colab-badge.svg\" alt=\"Open In Colab\"/></a>"
      ]
    },
    {
      "cell_type": "code",
      "execution_count": null,
      "metadata": {
        "id": "hwvLZcjSHXvL"
      },
      "outputs": [],
      "source": []
    },
    {
      "cell_type": "markdown",
      "source": [
        "My first program to **add** two numbers"
      ],
      "metadata": {
        "id": "eR0YuooWI8Fq"
      }
    },
    {
      "cell_type": "code",
      "source": [
        "5+7"
      ],
      "metadata": {
        "colab": {
          "base_uri": "https://localhost:8080/"
        },
        "id": "wfAzsbTtJCWa",
        "outputId": "679c0cc2-a5ab-4a90-8a97-4f415ff9e7ae"
      },
      "execution_count": null,
      "outputs": [
        {
          "output_type": "execute_result",
          "data": {
            "text/plain": [
              "12"
            ]
          },
          "metadata": {},
          "execution_count": 1
        }
      ]
    },
    {
      "cell_type": "markdown",
      "source": [],
      "metadata": {
        "id": "uSxEa_9TPzJI"
      }
    },
    {
      "cell_type": "markdown",
      "source": [
        "# Chapter 1\n"
      ],
      "metadata": {
        "id": "xv3lZRtMP02K"
      }
    },
    {
      "cell_type": "markdown",
      "source": [
        "My first Proram in Python"
      ],
      "metadata": {
        "id": "G2veEqSOQPsk"
      }
    },
    {
      "cell_type": "markdown",
      "source": [
        "Print something for me.. anything"
      ],
      "metadata": {
        "id": "ZQUDlYhxRctD"
      }
    },
    {
      "cell_type": "code",
      "source": [
        "print(\"Hello World\")"
      ],
      "metadata": {
        "colab": {
          "base_uri": "https://localhost:8080/"
        },
        "id": "VDbNzsqTQTbt",
        "outputId": "a1ff1f3c-70cf-4f2a-8163-8d4bedca21ba"
      },
      "execution_count": null,
      "outputs": [
        {
          "output_type": "stream",
          "name": "stdout",
          "text": [
            "Hello World\n"
          ]
        }
      ]
    },
    {
      "cell_type": "code",
      "source": [
        "print('Python is an amazing programming language')"
      ],
      "metadata": {
        "colab": {
          "base_uri": "https://localhost:8080/"
        },
        "id": "8tjlZNdiRhAI",
        "outputId": "3be0443a-8e0b-493f-fd91-08aa9a956a18"
      },
      "execution_count": null,
      "outputs": [
        {
          "output_type": "stream",
          "name": "stdout",
          "text": [
            "Python is an amazing programming language\n"
          ]
        }
      ]
    },
    {
      "cell_type": "code",
      "source": [
        "7+9"
      ],
      "metadata": {
        "colab": {
          "base_uri": "https://localhost:8080/"
        },
        "id": "enLMh23DQcpc",
        "outputId": "40e3975a-caff-4e84-b159-915c50c4871f"
      },
      "execution_count": null,
      "outputs": [
        {
          "output_type": "execute_result",
          "data": {
            "text/plain": [
              "16"
            ]
          },
          "metadata": {},
          "execution_count": 3
        }
      ]
    },
    {
      "cell_type": "markdown",
      "source": [
        "## Chapter 1.1\n"
      ],
      "metadata": {
        "id": "ZK05ogUpP61k"
      }
    },
    {
      "cell_type": "markdown",
      "source": [
        "Some mathematical operations"
      ],
      "metadata": {
        "id": "InBVfGsTQoxE"
      }
    },
    {
      "cell_type": "markdown",
      "source": [
        "**Addition**"
      ],
      "metadata": {
        "id": "z80W2J0RQs3U"
      }
    },
    {
      "cell_type": "code",
      "source": [
        "5+4"
      ],
      "metadata": {
        "colab": {
          "base_uri": "https://localhost:8080/"
        },
        "id": "zVzoVJ5bJJsA",
        "outputId": "cdda54b9-2f36-4e17-d764-3fb69e63ee48"
      },
      "execution_count": null,
      "outputs": [
        {
          "output_type": "execute_result",
          "data": {
            "text/plain": [
              "9"
            ]
          },
          "metadata": {},
          "execution_count": 4
        }
      ]
    },
    {
      "cell_type": "markdown",
      "source": [
        "**Multiplication**"
      ],
      "metadata": {
        "id": "sUfHZBbtQx_r"
      }
    },
    {
      "cell_type": "code",
      "source": [
        "25*7"
      ],
      "metadata": {
        "colab": {
          "base_uri": "https://localhost:8080/"
        },
        "id": "VgfHfzmWQwn_",
        "outputId": "ec856552-a056-4f6d-c207-8368b7b18350"
      },
      "execution_count": null,
      "outputs": [
        {
          "output_type": "execute_result",
          "data": {
            "text/plain": [
              "175"
            ]
          },
          "metadata": {},
          "execution_count": 5
        }
      ]
    },
    {
      "cell_type": "markdown",
      "source": [
        "**Division**"
      ],
      "metadata": {
        "id": "Zewz6JlLQ5xP"
      }
    },
    {
      "cell_type": "code",
      "source": [
        "100/2"
      ],
      "metadata": {
        "colab": {
          "base_uri": "https://localhost:8080/"
        },
        "id": "_wVr2ttcQ3GH",
        "outputId": "9f548eb0-f1aa-4798-de65-47919ef5ee3e"
      },
      "execution_count": null,
      "outputs": [
        {
          "output_type": "execute_result",
          "data": {
            "text/plain": [
              "50.0"
            ]
          },
          "metadata": {},
          "execution_count": 6
        }
      ]
    },
    {
      "cell_type": "markdown",
      "source": [
        "**Subtraction**"
      ],
      "metadata": {
        "id": "DwszkpALRUQ1"
      }
    },
    {
      "cell_type": "code",
      "source": [
        "75 -24"
      ],
      "metadata": {
        "colab": {
          "base_uri": "https://localhost:8080/"
        },
        "id": "naXY0SYPROnZ",
        "outputId": "edc17628-e58b-4a1c-b318-9a7f908b4361"
      },
      "execution_count": null,
      "outputs": [
        {
          "output_type": "execute_result",
          "data": {
            "text/plain": [
              "51"
            ]
          },
          "metadata": {},
          "execution_count": 7
        }
      ]
    },
    {
      "cell_type": "code",
      "source": [],
      "metadata": {
        "id": "PS5dhucqRZDG"
      },
      "execution_count": null,
      "outputs": []
    }
  ]
}