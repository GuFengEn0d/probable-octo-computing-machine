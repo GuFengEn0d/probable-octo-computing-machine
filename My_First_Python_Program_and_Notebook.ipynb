{
  "nbformat": 4,
  "nbformat_minor": 0,
  "metadata": {
    "colab": {
      "provenance": [],
      "include_colab_link": true
    },
    "kernelspec": {
      "name": "python3",
      "display_name": "Python 3"
    },
    "language_info": {
      "name": "python"
    }
  },
  "cells": [
    {
      "cell_type": "markdown",
      "metadata": {
        "id": "view-in-github",
        "colab_type": "text"
      },
      "source": [
        "<a href=\"https://colab.research.google.com/github/GuFengEn0d/probable-octo-computing-machine/blob/main/My_First_Python_Program_and_Notebook.ipynb\" target=\"_parent\"><img src=\"https://colab.research.google.com/assets/colab-badge.svg\" alt=\"Open In Colab\"/></a>"
      ]
    },
    {
      "cell_type": "markdown",
      "source": [
        "My first program to **add** two numbers"
      ],
      "metadata": {
        "id": "eR0YuooWI8Fq"
      }
    },
    {
      "cell_type": "code",
      "source": [
        "5+8"
      ],
      "metadata": {
        "colab": {
          "base_uri": "https://localhost:8080/"
        },
        "id": "wfAzsbTtJCWa",
        "outputId": "933f775b-53ba-4f80-895a-d60e7d5cc9d9"
      },
      "execution_count": null,
      "outputs": [
        {
          "output_type": "execute_result",
          "data": {
            "text/plain": [
              "13"
            ]
          },
          "metadata": {},
          "execution_count": 1
        }
      ]
    },
    {
      "cell_type": "markdown",
      "source": [],
      "metadata": {
        "id": "uSxEa_9TPzJI"
      }
    },
    {
      "cell_type": "markdown",
      "source": [
        "# Chapter 1\n"
      ],
      "metadata": {
        "id": "xv3lZRtMP02K"
      }
    },
    {
      "cell_type": "markdown",
      "source": [
        "My first Proram in Python"
      ],
      "metadata": {
        "id": "G2veEqSOQPsk"
      }
    },
    {
      "cell_type": "markdown",
      "source": [
        "Print something for me.. anything"
      ],
      "metadata": {
        "id": "ZQUDlYhxRctD"
      }
    },
    {
      "cell_type": "code",
      "source": [
        "print(\"Hello World\")"
      ],
      "metadata": {
        "colab": {
          "base_uri": "https://localhost:8080/"
        },
        "id": "VDbNzsqTQTbt",
        "outputId": "fa75e5ed-56ac-4f0d-ec2a-ffdaa615cdc1"
      },
      "execution_count": null,
      "outputs": [
        {
          "output_type": "stream",
          "name": "stdout",
          "text": [
            "Hello World\n"
          ]
        }
      ]
    },
    {
      "cell_type": "code",
      "source": [
        "print('Python is an amazing programming language')"
      ],
      "metadata": {
        "colab": {
          "base_uri": "https://localhost:8080/"
        },
        "id": "8tjlZNdiRhAI",
        "outputId": "04a51bc0-90a6-4fb6-a9fc-660a14f36a75"
      },
      "execution_count": null,
      "outputs": [
        {
          "output_type": "stream",
          "name": "stdout",
          "text": [
            "Python is an amazing programming language\n"
          ]
        }
      ]
    },
    {
      "cell_type": "code",
      "source": [
        "7+9"
      ],
      "metadata": {
        "colab": {
          "base_uri": "https://localhost:8080/"
        },
        "id": "enLMh23DQcpc",
        "outputId": "30f09f30-8350-4fe5-eaae-1b6971ed20cb"
      },
      "execution_count": null,
      "outputs": [
        {
          "output_type": "execute_result",
          "data": {
            "text/plain": [
              "16"
            ]
          },
          "metadata": {},
          "execution_count": 4
        }
      ]
    },
    {
      "cell_type": "markdown",
      "source": [
        "## Chapter 1.1\n"
      ],
      "metadata": {
        "id": "ZK05ogUpP61k"
      }
    },
    {
      "cell_type": "markdown",
      "source": [
        "Some mathematical operations"
      ],
      "metadata": {
        "id": "InBVfGsTQoxE"
      }
    },
    {
      "cell_type": "markdown",
      "source": [
        "**Addition**"
      ],
      "metadata": {
        "id": "z80W2J0RQs3U"
      }
    },
    {
      "cell_type": "code",
      "source": [
        "5+4"
      ],
      "metadata": {
        "colab": {
          "base_uri": "https://localhost:8080/"
        },
        "id": "zVzoVJ5bJJsA",
        "outputId": "584edc44-e91b-4b01-c666-bdca41be518e"
      },
      "execution_count": null,
      "outputs": [
        {
          "output_type": "execute_result",
          "data": {
            "text/plain": [
              "9"
            ]
          },
          "metadata": {},
          "execution_count": 5
        }
      ]
    },
    {
      "cell_type": "markdown",
      "source": [
        "**Multiplication**"
      ],
      "metadata": {
        "id": "sUfHZBbtQx_r"
      }
    },
    {
      "cell_type": "code",
      "source": [
        "25*7"
      ],
      "metadata": {
        "colab": {
          "base_uri": "https://localhost:8080/"
        },
        "id": "VgfHfzmWQwn_",
        "outputId": "96a25742-1cb8-48fb-c504-2b53ec1fd00e"
      },
      "execution_count": null,
      "outputs": [
        {
          "output_type": "execute_result",
          "data": {
            "text/plain": [
              "175"
            ]
          },
          "metadata": {},
          "execution_count": 6
        }
      ]
    },
    {
      "cell_type": "markdown",
      "source": [
        "**Division**"
      ],
      "metadata": {
        "id": "Zewz6JlLQ5xP"
      }
    },
    {
      "cell_type": "code",
      "source": [
        "100/2"
      ],
      "metadata": {
        "colab": {
          "base_uri": "https://localhost:8080/"
        },
        "id": "_wVr2ttcQ3GH",
        "outputId": "8f0a0b35-746d-4541-9f22-f154ad78740d"
      },
      "execution_count": null,
      "outputs": [
        {
          "output_type": "execute_result",
          "data": {
            "text/plain": [
              "50.0"
            ]
          },
          "metadata": {},
          "execution_count": 7
        }
      ]
    },
    {
      "cell_type": "markdown",
      "source": [
        "**Subtraction**"
      ],
      "metadata": {
        "id": "DwszkpALRUQ1"
      }
    },
    {
      "cell_type": "code",
      "source": [
        "75 -24"
      ],
      "metadata": {
        "colab": {
          "base_uri": "https://localhost:8080/"
        },
        "id": "naXY0SYPROnZ",
        "outputId": "f471ddfe-1ff6-422e-d8e9-2859b55fc849"
      },
      "execution_count": null,
      "outputs": [
        {
          "output_type": "execute_result",
          "data": {
            "text/plain": [
              "51"
            ]
          },
          "metadata": {},
          "execution_count": 8
        }
      ]
    },
    {
      "cell_type": "markdown",
      "source": [
        "# Variables"
      ],
      "metadata": {
        "id": "7oHj_eziXm7G"
      }
    },
    {
      "cell_type": "markdown",
      "source": [
        "a variable that holds some information and could be reused in the program"
      ],
      "metadata": {
        "id": "hiNWKmRFXuzN"
      }
    },
    {
      "cell_type": "code",
      "source": [
        "print(\"Hello World\")"
      ],
      "metadata": {
        "id": "PS5dhucqRZDG",
        "colab": {
          "base_uri": "https://localhost:8080/"
        },
        "outputId": "87459d1b-edd3-49f3-a05c-9be5cd4853e6"
      },
      "execution_count": null,
      "outputs": [
        {
          "output_type": "stream",
          "name": "stdout",
          "text": [
            "Hello World\n"
          ]
        }
      ]
    },
    {
      "cell_type": "code",
      "source": [
        "my_message = \"Hello World, This is a test for variable and how it works\""
      ],
      "metadata": {
        "id": "MHhK-Y9qX3Xl"
      },
      "execution_count": null,
      "outputs": []
    },
    {
      "cell_type": "code",
      "source": [
        "print(my_message)"
      ],
      "metadata": {
        "colab": {
          "base_uri": "https://localhost:8080/"
        },
        "id": "Uq81tPyAX7be",
        "outputId": "894158a0-9cb9-4329-fcc0-0a2cdb9d2d26"
      },
      "execution_count": null,
      "outputs": [
        {
          "output_type": "stream",
          "name": "stdout",
          "text": [
            "Hello World, This is a test for variable and how it works\n"
          ]
        }
      ]
    },
    {
      "cell_type": "code",
      "source": [
        "a=276\n",
        "b=10\n",
        "c=a+b"
      ],
      "metadata": {
        "id": "5Djme4e0X-hg"
      },
      "execution_count": null,
      "outputs": []
    },
    {
      "cell_type": "code",
      "source": [
        "print(a)"
      ],
      "metadata": {
        "colab": {
          "base_uri": "https://localhost:8080/"
        },
        "id": "zXjgYfnVYQAs",
        "outputId": "e8356dbb-90ac-4241-d65d-240f4655f8ad"
      },
      "execution_count": null,
      "outputs": [
        {
          "output_type": "stream",
          "name": "stdout",
          "text": [
            "276\n"
          ]
        }
      ]
    },
    {
      "cell_type": "code",
      "source": [
        "print(b)"
      ],
      "metadata": {
        "colab": {
          "base_uri": "https://localhost:8080/"
        },
        "id": "jEUmrHFVYQ-1",
        "outputId": "b1491cdd-d1c6-48f9-b338-da015d60524f"
      },
      "execution_count": null,
      "outputs": [
        {
          "output_type": "stream",
          "name": "stdout",
          "text": [
            "10\n"
          ]
        }
      ]
    },
    {
      "cell_type": "code",
      "source": [
        "print(c)"
      ],
      "metadata": {
        "colab": {
          "base_uri": "https://localhost:8080/"
        },
        "id": "R0TNbbC-YSf8",
        "outputId": "792ed484-5c6c-45cc-a6f5-fc12625868ab"
      },
      "execution_count": null,
      "outputs": [
        {
          "output_type": "stream",
          "name": "stdout",
          "text": [
            "286\n"
          ]
        }
      ]
    },
    {
      "cell_type": "code",
      "source": [
        "my_first_number=276\n",
        "my_second_number=150\n",
        "result=my_first_number+my_second_number"
      ],
      "metadata": {
        "id": "gxML-0OHYUQo"
      },
      "execution_count": null,
      "outputs": []
    },
    {
      "cell_type": "code",
      "source": [
        "print(result)"
      ],
      "metadata": {
        "colab": {
          "base_uri": "https://localhost:8080/"
        },
        "id": "XbcR8OnoY2OD",
        "outputId": "fd971607-0cab-463e-9021-73bc9b9e44e2"
      },
      "execution_count": null,
      "outputs": [
        {
          "output_type": "stream",
          "name": "stdout",
          "text": [
            "426\n"
          ]
        }
      ]
    },
    {
      "cell_type": "code",
      "source": [
        "my_first_number=50"
      ],
      "metadata": {
        "id": "V9bG5YXTY5LJ"
      },
      "execution_count": null,
      "outputs": []
    },
    {
      "cell_type": "code",
      "source": [
        "user_name=\"Yoli\""
      ],
      "metadata": {
        "id": "CZdxTtdqaDIH"
      },
      "execution_count": null,
      "outputs": []
    },
    {
      "cell_type": "code",
      "source": [
        "greeting_message=\"Welcome \"+user_name"
      ],
      "metadata": {
        "id": "GnhI4PAzZDD4"
      },
      "execution_count": null,
      "outputs": []
    },
    {
      "cell_type": "code",
      "source": [
        "print(greeting_message)"
      ],
      "metadata": {
        "colab": {
          "base_uri": "https://localhost:8080/"
        },
        "id": "BSRjJYJAZ9Lt",
        "outputId": "5a13c709-a521-4cfd-839b-8c2d691be507"
      },
      "execution_count": null,
      "outputs": [
        {
          "output_type": "stream",
          "name": "stdout",
          "text": [
            "Welcome Yoli\n"
          ]
        }
      ]
    },
    {
      "cell_type": "code",
      "source": [
        "college_name = \"laGcc, Queens\""
      ],
      "metadata": {
        "id": "VX-q_J4Ya__i"
      },
      "execution_count": null,
      "outputs": []
    },
    {
      "cell_type": "code",
      "source": [
        "print(college_name)"
      ],
      "metadata": {
        "colab": {
          "base_uri": "https://localhost:8080/"
        },
        "id": "0p7p8rcifb1o",
        "outputId": "f88c277b-a303-4d9c-eb79-478f8917cba8"
      },
      "execution_count": null,
      "outputs": [
        {
          "output_type": "stream",
          "name": "stdout",
          "text": [
            "laGcc, Queens\n"
          ]
        }
      ]
    },
    {
      "cell_type": "code",
      "source": [
        "college_name.capitalize()"
      ],
      "metadata": {
        "colab": {
          "base_uri": "https://localhost:8080/",
          "height": 36
        },
        "id": "rsUX9rBefc0O",
        "outputId": "babad050-261b-47dc-a104-1bb9db8907b7"
      },
      "execution_count": null,
      "outputs": [
        {
          "output_type": "execute_result",
          "data": {
            "text/plain": [
              "'Lagcc, queens'"
            ],
            "application/vnd.google.colaboratory.intrinsic+json": {
              "type": "string"
            }
          },
          "metadata": {},
          "execution_count": 24
        }
      ]
    },
    {
      "cell_type": "code",
      "source": [
        "college_name.upper()"
      ],
      "metadata": {
        "colab": {
          "base_uri": "https://localhost:8080/",
          "height": 36
        },
        "id": "yEoKUj9iffvm",
        "outputId": "103a7560-772f-488d-dc22-92fb500d408e"
      },
      "execution_count": null,
      "outputs": [
        {
          "output_type": "execute_result",
          "data": {
            "text/plain": [
              "'LAGCC, QUEENS'"
            ],
            "application/vnd.google.colaboratory.intrinsic+json": {
              "type": "string"
            }
          },
          "metadata": {},
          "execution_count": 25
        }
      ]
    },
    {
      "cell_type": "code",
      "source": [
        "college_name.lower()"
      ],
      "metadata": {
        "colab": {
          "base_uri": "https://localhost:8080/",
          "height": 36
        },
        "id": "vC8pGW09fsCw",
        "outputId": "5fe46e8d-5502-418d-b22d-2d39601703e3"
      },
      "execution_count": null,
      "outputs": [
        {
          "output_type": "execute_result",
          "data": {
            "text/plain": [
              "'lagcc, queens'"
            ],
            "application/vnd.google.colaboratory.intrinsic+json": {
              "type": "string"
            }
          },
          "metadata": {},
          "execution_count": 26
        }
      ]
    },
    {
      "cell_type": "code",
      "source": [
        "print(\"Lagcc\\nQueens\\nNYC\")"
      ],
      "metadata": {
        "colab": {
          "base_uri": "https://localhost:8080/"
        },
        "id": "B2aq6GQhfu6K",
        "outputId": "08af2b58-a819-4369-d510-f28da9380828"
      },
      "execution_count": null,
      "outputs": [
        {
          "output_type": "stream",
          "name": "stdout",
          "text": [
            "Lagcc\n",
            "Queens\n",
            "NYC\n"
          ]
        }
      ]
    },
    {
      "cell_type": "code",
      "source": [
        "5+5"
      ],
      "metadata": {
        "colab": {
          "base_uri": "https://localhost:8080/"
        },
        "id": "tmqBgrkIgKFg",
        "outputId": "681ea231-bb47-4759-95b0-81d45392781f"
      },
      "execution_count": null,
      "outputs": [
        {
          "output_type": "execute_result",
          "data": {
            "text/plain": [
              "10"
            ]
          },
          "metadata": {},
          "execution_count": 28
        }
      ]
    },
    {
      "cell_type": "code",
      "source": [
        "\"my name is \" + \"John\""
      ],
      "metadata": {
        "colab": {
          "base_uri": "https://localhost:8080/",
          "height": 36
        },
        "id": "M-8XNS3miL_l",
        "outputId": "553def0d-f271-4723-d51b-7f7b9496a311"
      },
      "execution_count": null,
      "outputs": [
        {
          "output_type": "execute_result",
          "data": {
            "text/plain": [
              "'my name is John'"
            ],
            "application/vnd.google.colaboratory.intrinsic+json": {
              "type": "string"
            }
          },
          "metadata": {},
          "execution_count": 29
        }
      ]
    },
    {
      "cell_type": "code",
      "source": [
        "5**2"
      ],
      "metadata": {
        "colab": {
          "base_uri": "https://localhost:8080/"
        },
        "id": "Oor6t0DriQRC",
        "outputId": "1f2728f6-8059-413b-dce1-b11bfb434474"
      },
      "execution_count": null,
      "outputs": [
        {
          "output_type": "execute_result",
          "data": {
            "text/plain": [
              "25"
            ]
          },
          "metadata": {},
          "execution_count": 30
        }
      ]
    },
    {
      "cell_type": "code",
      "source": [
        "100 * 2.5"
      ],
      "metadata": {
        "colab": {
          "base_uri": "https://localhost:8080/"
        },
        "id": "qizZbJlriifW",
        "outputId": "53ae9977-0723-45f9-9613-73e621ecd550"
      },
      "execution_count": null,
      "outputs": [
        {
          "output_type": "execute_result",
          "data": {
            "text/plain": [
              "250.0"
            ]
          },
          "metadata": {},
          "execution_count": 31
        }
      ]
    },
    {
      "cell_type": "code",
      "source": [
        "print(\"my age is \" + (16))"
      ],
      "metadata": {
        "colab": {
          "base_uri": "https://localhost:8080/",
          "height": 141
        },
        "id": "m7hIQD2GirQ-",
        "outputId": "963c177a-1cc0-4c15-d17a-7b8680466241"
      },
      "execution_count": null,
      "outputs": [
        {
          "output_type": "error",
          "ename": "TypeError",
          "evalue": "can only concatenate str (not \"int\") to str",
          "traceback": [
            "\u001b[0;31m---------------------------------------------------------------------------\u001b[0m",
            "\u001b[0;31mTypeError\u001b[0m                                 Traceback (most recent call last)",
            "\u001b[0;32m<ipython-input-34-17d09fb4e232>\u001b[0m in \u001b[0;36m<cell line: 1>\u001b[0;34m()\u001b[0m\n\u001b[0;32m----> 1\u001b[0;31m \u001b[0mprint\u001b[0m\u001b[0;34m(\u001b[0m\u001b[0;34m\"my age is \"\u001b[0m \u001b[0;34m+\u001b[0m \u001b[0;34m(\u001b[0m\u001b[0;36m16\u001b[0m\u001b[0;34m)\u001b[0m\u001b[0;34m)\u001b[0m\u001b[0;34m\u001b[0m\u001b[0;34m\u001b[0m\u001b[0m\n\u001b[0m",
            "\u001b[0;31mTypeError\u001b[0m: can only concatenate str (not \"int\") to str"
          ]
        }
      ]
    },
    {
      "cell_type": "code",
      "source": [
        "z=25\n",
        "b=16\n",
        "c=35.4\n",
        "d=92.45"
      ],
      "metadata": {
        "id": "O8BKt_86jREy"
      },
      "execution_count": null,
      "outputs": []
    },
    {
      "cell_type": "code",
      "source": [
        "new_var = b+c\n",
        "f = z*(new_var)-d"
      ],
      "metadata": {
        "id": "oIpjiAvllmq3"
      },
      "execution_count": null,
      "outputs": []
    },
    {
      "cell_type": "code",
      "source": [
        "f"
      ],
      "metadata": {
        "colab": {
          "base_uri": "https://localhost:8080/"
        },
        "id": "jbq1840Ll_It",
        "outputId": "89a7529b-7eb9-4e62-d17a-71a3e9343043"
      },
      "execution_count": null,
      "outputs": [
        {
          "output_type": "execute_result",
          "data": {
            "text/plain": [
              "1192.55"
            ]
          },
          "metadata": {},
          "execution_count": 54
        }
      ]
    },
    {
      "cell_type": "code",
      "source": [
        "name= \"James\"\n",
        "message= \"Hello \"+ name +\", what are you doing after class?\"\n",
        "print(message)"
      ],
      "metadata": {
        "colab": {
          "base_uri": "https://localhost:8080/"
        },
        "id": "eIi_4k17lrT3",
        "outputId": "1e3c1ac9-d0cd-4c0f-8303-50c6ffbab292"
      },
      "execution_count": null,
      "outputs": [
        {
          "output_type": "stream",
          "name": "stdout",
          "text": [
            "Hello James, what are you doing after class?\n"
          ]
        }
      ]
    },
    {
      "cell_type": "code",
      "source": [],
      "metadata": {
        "id": "pC9Ypr8emuXS"
      },
      "execution_count": null,
      "outputs": []
    }
  ]
}